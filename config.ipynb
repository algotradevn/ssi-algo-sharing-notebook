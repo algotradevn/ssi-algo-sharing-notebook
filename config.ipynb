{
 "cells": [
  {
   "cell_type": "code",
   "execution_count": 2,
   "id": "740fcf85-d58e-4216-85ba-1a4eda5633fe",
   "metadata": {},
   "outputs": [],
   "source": [
    "CONSUMER_ID=''\n",
    "CONSUMER_SECRET=''\n",
    "ACCOUNT=''\n",
    "PRIVATE_KEY=''\n",
    "\n",
    "CUT_LOSS_THRESHOLD=-3\n",
    "TAKE_PROFIT_THRESHOLD=3\n",
    "MAX_ROUND=2 # if greater than 3, it will be set to 3 as default\n",
    "START_TRADING_TIME='09:00:00' # between 09:00:00 and 14:30:00"
   ]
  }
 ],
 "metadata": {
  "kernelspec": {
   "display_name": "Python 3 (ipykernel)",
   "language": "python",
   "name": "python3"
  },
  "language_info": {
   "codemirror_mode": {
    "name": "ipython",
    "version": 3
   },
   "file_extension": ".py",
   "mimetype": "text/x-python",
   "name": "python",
   "nbconvert_exporter": "python",
   "pygments_lexer": "ipython3",
   "version": "3.10.6"
  }
 },
 "nbformat": 4,
 "nbformat_minor": 5
}
