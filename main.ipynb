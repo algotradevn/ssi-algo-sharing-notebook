{
 "cells": [
  {
   "cell_type": "markdown",
   "id": "362a64f6-d2b2-47ad-b73a-e832823d76f4",
   "metadata": {},
   "source": [
    "# SSI Algorithm Demo"
   ]
  },
  {
   "cell_type": "markdown",
   "id": "4435378f-2f64-49da-9dc1-0f60a4cfb8ae",
   "metadata": {},
   "source": [
    "Add related components from algotrade library "
   ]
  },
  {
   "cell_type": "code",
   "execution_count": null,
   "id": "45df3f09-fc37-4d70-a16f-2800addbc556",
   "metadata": {
    "tags": []
   },
   "outputs": [],
   "source": [
    "# at the beginning of the script\n",
    "import gevent.monkey\n",
    "gevent.monkey.patch_all()\n",
    "\n",
    "import ujson\n",
    "import time\n",
    "from algotrade import redis, ssi_api, ssi_stream, handler"
   ]
  },
  {
   "cell_type": "markdown",
   "id": "e2f7488e-c602-460f-83c5-e39a2213ca6d",
   "metadata": {},
   "source": [
    "Proceed returned data from SSI, we will update open position and total profit if the current position is closed        \n",
    "If `filledQty` is greater than zero, calculate the profit/loss from this position and sum up with `TOTAL_PROFIT`     \n",
    "After that, update `OPEN_POSITION` to initialized state -> allow to open new position"
   ]
  },
  {
   "cell_type": "markdown",
   "id": "13f104f4-6206-45a4-a386-c77c47840c3f",
   "metadata": {},
   "source": [
    "Init ssi_api, ssi_stream with user's configuration    \n",
    "- ssi_api is used to call api to login, open position, ...\n",
    "- ssi_stream is used to get position information (filled, cancelled, ...)"
   ]
  },
  {
   "cell_type": "code",
   "execution_count": null,
   "id": "9716d762-0adb-4552-b74f-8f24339454d3",
   "metadata": {},
   "outputs": [],
   "source": [
    "ALL_F1M_PRICE_TICKS = 'ALL_F1M'\n",
    "OPEN_ATC = False\n",
    "HANDLED_REQUESTS = []"
   ]
  },
  {
   "cell_type": "code",
   "execution_count": null,
   "id": "f104c98e-2ae3-40de-b248-ce2c36134e9b",
   "metadata": {},
   "outputs": [],
   "source": [
    "def handle_order_ok(data):\n",
    "    global OPEN_POSITION, CURRENT_ORDER, TOTAL_PROFIT, HANDLED_REQUESTS\n",
    "    request_id = data['uniqueID']\n",
    "    print('-------------BEFORE UPDATE------------')\n",
    "    print('OPEN_POSITION', OPEN_POSITION)\n",
    "    print('CURRENT_ORDER', CURRENT_ORDER)\n",
    "    print('--------------------------------------')\n",
    "    print('HANDLED_REQUESTS: {}'.format(HANDLED_REQUESTS))\n",
    "    if CURRENT_ORDER['request_id'] == request_id:\n",
    "        CURRENT_ORDER['order_id'] = data['orderID']\n",
    "        if data['filledQty'] > 0 and request_id not in HANDLED_REQUESTS:\n",
    "            HANDLED_REQUESTS.append(request_id) # avoid same order events are returned\n",
    "\n",
    "            # update TOTAL_PROFIT\n",
    "            filled_price = data['avgPrice']\n",
    "            TOTAL_PROFIT += calculate_profit(filled_price)\n",
    "            print('TOTAL_PROFIT', TOTAL_PROFIT)\n",
    "\n",
    "            # update OPEN_POSITION\n",
    "            OPEN_POSITION['avg_price'] = filled_price\n",
    "            new_qty = abs(OPEN_POSITION['qty'] - data['filledQty'])\n",
    "            OPEN_POSITION['qty'] = new_qty\n",
    "            openned_side = CURRENT_ORDER['side'] if new_qty > 0 else None\n",
    "            OPEN_POSITION['side'] = openned_side\n",
    "\n",
    "            # update CURRENT_ORDER\n",
    "            CURRENT_ORDER['status'] = 'FILLED'\n",
    "\n",
    "            print('----------AFTER FILLED----------------')\n",
    "            print('OPEN_POSITION', OPEN_POSITION)\n",
    "            print('CURRENT_ORDER', CURRENT_ORDER)\n",
    "            print('--------------------------------------')\n",
    "\n",
    "            # check state and open profit position\n",
    "            if openned_side is not None:\n",
    "                open_position(\n",
    "                    get_reverse_side(openned_side),\n",
    "                    'LO',\n",
    "                    get_profit_price(openned_side, filled_price),\n",
    "                    False\n",
    "                )\n",
    "        if data['cancelQty'] > 0 and request_id not in HANDLED_REQUESTS:\n",
    "            HANDLED_REQUESTS.append(request_id) # avoid same order events are returned\n",
    "\n",
    "            request_side = CURRENT_ORDER['side']\n",
    "            # Update CURRENT_ORDER\n",
    "            CURRENT_ORDER['status'] = None\n",
    "            CURRENT_ORDER['side'] = None\n",
    "            \n",
    "            # After cancel \"profit\" position -> create a new \"cut loss\" position\n",
    "            if OPEN_ATC:\n",
    "                open_position(request_side, 'ATC', 0, False)\n",
    "            else:\n",
    "                price = CEILING_PRICE if request_side == 'BUY' else FLOOR_PRICE\n",
    "                open_position(request_side, 'LO', price, False)\n",
    "        update_redis_db()"
   ]
  },
  {
   "cell_type": "code",
   "execution_count": null,
   "id": "f60084d3-f0ff-46b7-81dc-23e824cb16d6",
   "metadata": {},
   "outputs": [],
   "source": [
    "%run data.ipynb\n",
    "%run db.ipynb"
   ]
  },
  {
   "cell_type": "markdown",
   "id": "6c373a07-08e0-47ab-b839-4931d8ec8152",
   "metadata": {},
   "source": [
    "Using redis pub/sub to subscribe ticks"
   ]
  },
  {
   "cell_type": "code",
   "execution_count": null,
   "id": "23280c83-0fc2-4019-b893-ae3fe15d6e90",
   "metadata": {},
   "outputs": [],
   "source": [
    "r = redis.init_redis()\n",
    "pubsub = r.pubsub()\n",
    "F1 =  redis.get_key('F1M_CODE').decode()\n",
    "pubsub.subscribe('HNXDS:{}'.format(F1))"
   ]
  },
  {
   "cell_type": "code",
   "execution_count": null,
   "id": "7918684b-0fa5-42ea-9a71-6578504fb488",
   "metadata": {},
   "outputs": [],
   "source": [
    "def init_local_db(redis_data):\n",
    "    if redis_data is not None:\n",
    "        global CURRENT_ORDER, OPEN_POSITION, TOTAL_PROFIT\n",
    "        redis_data_value = ujson.loads(redis_data)\n",
    "        print(redis_data_value)\n",
    "        CURRENT_ORDER = redis_data_value['CURRENT_ORDER']\n",
    "        OPEN_POSITION = redis_data_value['OPEN_POSITION']\n",
    "        TOTAL_PROFIT = redis_data_value['TOTAL_PROFIT']"
   ]
  },
  {
   "cell_type": "code",
   "execution_count": null,
   "id": "91cdefa2-a4e2-41d0-affc-7a207ccd9f6f",
   "metadata": {},
   "outputs": [],
   "source": [
    "%run config.ipynb\n",
    "\n",
    "if CUT_LOSS_THRESHOLD >= 0 or TAKE_PROFIT_THRESHOLD <= 0:\n",
    "    raise Exception('Please check configuration - cut loss must be less than 0 and take profit must be greater than 0')\n",
    "\n",
    "if CONSUMER_ID == \"\" or CONSUMER_SECRET == \"\" or ACCOUNT == \"\" or PRIVATE_KEY == \"\":\n",
    "    raise Exception('Please check configuration - account configuration can not be empty')\n",
    "    \n",
    "if START_TRADING_TIME < '09:00:00' or START_TRADING_TIME > '14:30:00':\n",
    "    raise Exception('Please check configuration - start trading time must be between 09AM and 02:30PM')\n",
    "    \n",
    "ssi_api.init_config(\n",
    "  CONSUMER_ID,\n",
    "  CONSUMER_SECRET,\n",
    "  ACCOUNT,\n",
    "  PRIVATE_KEY\n",
    ")\n",
    "token = ssi_api.login()\n",
    "ssi_connection = ssi_stream.init_stream(token, handle_order_ok)\n",
    "\n",
    "ACCOUNT_KEY = 'SSI_{}'.format(ACCOUNT)\n",
    "redis_data = redis.get_key(ACCOUNT_KEY)\n",
    "init_local_db(redis_data)"
   ]
  },
  {
   "cell_type": "code",
   "execution_count": null,
   "id": "92784912-c1de-4456-8224-34126eb1a7f4",
   "metadata": {},
   "outputs": [],
   "source": [
    "def update_redis_db():\n",
    "    redis.set_key(ACCOUNT_KEY, ujson.dumps(dict({\n",
    "        'CURRENT_ORDER': CURRENT_ORDER,\n",
    "        'OPEN_POSITION': OPEN_POSITION,\n",
    "        'TOTAL_PROFIT': TOTAL_PROFIT\n",
    "    })))"
   ]
  },
  {
   "cell_type": "markdown",
   "id": "0bd27151-88bf-4983-b840-99f69e919637",
   "metadata": {},
   "source": [
    "Initialize data with redis value (updated by algotrade service)"
   ]
  },
  {
   "cell_type": "code",
   "execution_count": null,
   "id": "8667871b-2feb-4988-a856-cf248164c78b",
   "metadata": {},
   "outputs": [],
   "source": [
    "all_f1_data = redis.get_key(ALL_F1M_PRICE_TICKS)\n",
    "if all_f1_data is not None:\n",
    "    init_ticks(ujson.loads(all_f1_data))"
   ]
  },
  {
   "cell_type": "markdown",
   "id": "258c2a96-da72-4c02-9704-36cd4a5c89db",
   "metadata": {},
   "source": [
    "Callback function is used to update `CURRENT_ORDER`"
   ]
  },
  {
   "cell_type": "code",
   "execution_count": null,
   "id": "4f9f3567-0269-4822-9ab5-472dfe87d942",
   "metadata": {},
   "outputs": [],
   "source": [
    "def update_current_order(data: dict):\n",
    "    global CURRENT_ORDER\n",
    "    CURRENT_ORDER = data\n",
    "    update_redis_db()"
   ]
  },
  {
   "cell_type": "markdown",
   "id": "3a1d5d71-0053-4b7d-a686-72eefada8db6",
   "metadata": {},
   "source": [
    "This is wrapper function - used to open new position"
   ]
  },
  {
   "cell_type": "code",
   "execution_count": null,
   "id": "4b915b18-7447-4348-9116-9c23322aa551",
   "metadata": {},
   "outputs": [],
   "source": [
    "def open_position(side: str, order_type: str, price: float, reverse: bool):\n",
    "    current_side = OPEN_POSITION['side']\n",
    "    current_order_status = CURRENT_ORDER['status']\n",
    "    handler.open_position(\n",
    "        ACCOUNT,\n",
    "        F1,\n",
    "        side,\n",
    "        order_type,\n",
    "        price,\n",
    "        reverse,\n",
    "        MAX_ROUND,\n",
    "        current_side,\n",
    "        current_order_status,\n",
    "        update_current_order\n",
    "    )"
   ]
  },
  {
   "cell_type": "code",
   "execution_count": null,
   "id": "969ae4ad-3779-425d-93e1-7b4207b0ebac",
   "metadata": {},
   "outputs": [],
   "source": [
    "def cancel_profit_position():\n",
    "    if CURRENT_ORDER['status'] == 'PENDING_NEW':\n",
    "        handler.cancel_position(\n",
    "            ACCOUNT,\n",
    "            F1,\n",
    "            CURRENT_ORDER['order_id'],\n",
    "            CURRENT_ORDER['side'],\n",
    "            MAX_ROUND,\n",
    "            update_current_order\n",
    "        )"
   ]
  },
  {
   "cell_type": "markdown",
   "id": "995d2446-7ce8-4aa5-a404-1a77dd78ddf7",
   "metadata": {},
   "source": [
    "Because we want to open position with latest price (ASAP), so we need to pass ceiling price if we buy (open LONG), otherwise, pass floor price if we sell (open SHORT)"
   ]
  },
  {
   "cell_type": "code",
   "execution_count": null,
   "id": "421d5987-a590-438d-a89e-d1426aaffe94",
   "metadata": {},
   "outputs": [],
   "source": [
    "def handle_position_with_price(side: str, order_type: str, data: dict, reverse: bool):\n",
    "    price = CEILING_PRICE if side == 'BUY' else FLOOR_PRICE\n",
    "    open_position(side, order_type, price, reverse)"
   ]
  },
  {
   "cell_type": "code",
   "execution_count": null,
   "id": "13b2606d-bc73-4091-ad48-435530841a49",
   "metadata": {},
   "outputs": [],
   "source": [
    "def get_reverse_side(side: str):\n",
    "    return 'BUY' if side == 'SELL' else 'SELL'"
   ]
  },
  {
   "cell_type": "code",
   "execution_count": null,
   "id": "6c434273-1a2b-4f59-8e9c-a52ccaaf125f",
   "metadata": {},
   "outputs": [],
   "source": [
    "def get_profit_price(side: str, price: float):\n",
    "    pone = 1 if side == 'BUY' else -1\n",
    "    return price + pone * TAKE_PROFIT_THRESHOLD"
   ]
  },
  {
   "cell_type": "code",
   "execution_count": null,
   "id": "c7fcd675-4da1-4d56-8783-d441c4eb8c1b",
   "metadata": {},
   "outputs": [],
   "source": [
    "def get_sma_value(value):\n",
    "    return 'N/A' if value == 0 else value"
   ]
  },
  {
   "cell_type": "markdown",
   "id": "b4e86ae8-b916-4629-9baa-2163037a5c33",
   "metadata": {},
   "source": [
    "### Algorithm implementation\n",
    "Each tick has `last_px` (last price) field, we will add into price list and calculate SMA(t), SMA(t-1)  \n",
    "About SMA (Simple Moving Average): https://www.investopedia.com/terms/s/sma.asp   \n",
    "\n",
    "- If last_px(t-1) < SMA(t-1) and last_px(t) >= SMA(t) -> Open **Long**\n",
    "- If last_px(t-1) > SMA(t-1) and last_px(t) <= SMA(t) -> Open **Short**\n",
    "\n",
    "If unrealized profit/loss exceed our range (is configured in config.ipynb), we will close position to take profit or cut loss (reverse position)   \n",
    "We will close openned position in ATC session if we have"
   ]
  },
  {
   "cell_type": "code",
   "execution_count": null,
   "id": "7aa0917c-6aa9-4fdd-bfc6-0ff2ae04a4db",
   "metadata": {},
   "outputs": [],
   "source": [
    "def handle_msg_internal(hidden_info: dict):\n",
    "    last_px = hidden_info['LastPrice']\n",
    "    trade_time = hidden_info['Time']\n",
    "    global OPEN_POSITION, START_TRADING_TIME, FLOOR_PRICE, CEILING_PRICE\n",
    "    if last_px is not None:\n",
    "        [prev_last_px, prev_sma, sma] = add_tick(last_px)\n",
    "        print('SMA(t-1): {}, SMA(t): {}, LAST_PX(t-1): {}, LAST_PX(t): {}'.format(get_sma_value(prev_sma), get_sma_value(sma), prev_last_px, last_px))\n",
    "        if FLOOR_PRICE is None or CEILING_PRICE is None:\n",
    "            FLOOR_PRICE = hidden_info['Floor']\n",
    "            CEILING_PRICE = hidden_info['Ceiling']\n",
    "                    \n",
    "        if trade_time >= START_TRADING_TIME and trade_time < '14:30:00':\n",
    "            if OPEN_POSITION['side'] is not None:\n",
    "                unrealized = calculate_profit(last_px)\n",
    "                print('Unrealized Profit/Loss: ', calculate_profit(last_px))\n",
    "                if unrealized <= CUT_LOSS_THRESHOLD:\n",
    "                    # cut loss -> close opening position\n",
    "                    print('Cut loss -> Cancel \"profit\" position first')\n",
    "                    cancel_profit_position()\n",
    "            elif prev_sma > 0.0:\n",
    "                if prev_last_px < prev_sma and last_px >= sma:\n",
    "                    print('Long Signal')\n",
    "                    handle_position_with_price('BUY', 'LO', hidden_info, False)\n",
    "                if prev_last_px > prev_sma and last_px <= sma:\n",
    "                    print('Short Signal')\n",
    "                    handle_position_with_price('SELL', 'LO', hidden_info, False)\n",
    "\n",
    "    if trade_time > '14:30:00' and OPEN_POSITION['side'] is not None:\n",
    "        # close opening position in ATC session\n",
    "        print('Close ATC')\n",
    "        global OPEN_ATC\n",
    "        OPEN_ATC = True\n",
    "        cancel_profit_position()\n",
    "        # handle_position_with_price(get_reverse_side(OPEN_POSITION['side']), 'ATC', hidden_info, False)"
   ]
  },
  {
   "cell_type": "code",
   "execution_count": null,
   "id": "36da0b99-e1b9-426b-9235-576750d9349c",
   "metadata": {},
   "outputs": [],
   "source": [
    "def handle_msg(msg):\n",
    "    msg_data = ujson.loads(msg['data'])\n",
    "    if msg_data['hidden_system_status'] is not None:\n",
    "        hidden_info = ujson.loads(msg_data['hidden_system_status'])\n",
    "        handle_msg_internal(hidden_info)\n",
    "        \n",
    "        # draw_chart()"
   ]
  },
  {
   "cell_type": "markdown",
   "id": "f6923f9f-efbf-4d6e-8874-9a231194da16",
   "metadata": {},
   "source": [
    "### Live logging start here &darr;"
   ]
  },
  {
   "cell_type": "code",
   "execution_count": null,
   "id": "e5e2ce51-3147-430d-b495-4d238e66087d",
   "metadata": {},
   "outputs": [],
   "source": [
    "with ssi_connection:\n",
    "    ssi_connection.start()\n",
    "    \n",
    "    for message in pubsub.listen():\n",
    "        if message['type'] == 'message':\n",
    "            handle_msg(message)\n",
    "        if ssi_connection.is_reset_connection:\n",
    "            print('Lost connection')\n",
    "            ssi_connection.reset_session(session)\n",
    "            ssi_connection.start()\n",
    "            ssi_connection.is_reset_connection = False"
   ]
  }
 ],
 "metadata": {
  "kernelspec": {
   "display_name": "Python 3 (ipykernel)",
   "language": "python",
   "name": "python3"
  },
  "language_info": {
   "codemirror_mode": {
    "name": "ipython",
    "version": 3
   },
   "file_extension": ".py",
   "mimetype": "text/x-python",
   "name": "python",
   "nbconvert_exporter": "python",
   "pygments_lexer": "ipython3",
   "version": "3.10.6"
  }
 },
 "nbformat": 4,
 "nbformat_minor": 5
}
