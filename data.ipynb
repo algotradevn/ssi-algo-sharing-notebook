{
 "cells": [
  {
   "cell_type": "code",
   "execution_count": 1,
   "id": "87c6ba81-922c-4f15-b650-6ba050afa19f",
   "metadata": {},
   "outputs": [],
   "source": [
    "ticks = []\n",
    "tick_with_smas = [] \n",
    "smas = []\n",
    "prev_smas = []\n",
    "\n",
    "DEFAULT_N_TICKS = 2000"
   ]
  },
  {
   "cell_type": "code",
   "execution_count": 2,
   "id": "4f4d944e-4d80-4a6b-a7d2-e43266a81858",
   "metadata": {},
   "outputs": [],
   "source": [
    "def calculate_sma():\n",
    "    ticks_len = len(ticks)\n",
    "    if ticks_len < DEFAULT_N_TICKS:\n",
    "        return 0\n",
    "    latest_pos = ticks_len - 1\n",
    "    sub_ticks = ticks[latest_pos - DEFAULT_N_TICKS: latest_pos]\n",
    "    return round(sum(sub_ticks) / DEFAULT_N_TICKS, 4)"
   ]
  },
  {
   "cell_type": "code",
   "execution_count": 3,
   "id": "94727eb7-599d-4f99-984a-9ad2344c6b54",
   "metadata": {},
   "outputs": [],
   "source": [
    "def add_tick(tick: float):\n",
    "    prev_sma = calculate_sma()\n",
    "    prev_last_px = ticks[len(ticks) - 1]\n",
    "    if tick > 0:\n",
    "        ticks.append(tick)\n",
    "        tick_with_smas.append(tick)\n",
    "    sma = calculate_sma()\n",
    "    smas.append(sma)\n",
    "    prev_smas.append(prev_sma)\n",
    "    return [prev_last_px, prev_sma, sma]"
   ]
  },
  {
   "cell_type": "code",
   "execution_count": 4,
   "id": "aba9046a-8dd5-49e4-a246-16d0e1d6a590",
   "metadata": {},
   "outputs": [],
   "source": [
    "def init_ticks(_ticks):\n",
    "    global ticks\n",
    "    if len(_ticks) > 0:\n",
    "        print('Init ticks -> DONE')\n",
    "    # print('Init ticks', _ticks)\n",
    "    ticks = _ticks"
   ]
  },
  {
   "cell_type": "code",
   "execution_count": 5,
   "id": "107cc5db-c04d-4b6a-8bbf-0ecfc6d48d7e",
   "metadata": {},
   "outputs": [],
   "source": [
    "import matplotlib.pyplot as plt\n",
    "import numpy as np\n",
    "import pandas as pd"
   ]
  },
  {
   "cell_type": "code",
   "execution_count": 6,
   "id": "8dae42f1-2d76-4b97-8b3e-9d71b1979287",
   "metadata": {},
   "outputs": [],
   "source": [
    "def draw_chart():\n",
    "    # Data\n",
    "    df=pd.DataFrame({'tick_no': range(0, len(smas)), 'tick': tick_with_smas, 'sma': smas, 'prev_sma': prev_smas})\n",
    "\n",
    "    plt.plot( 'tick_no', 'tick', data=df, marker='', color='olive', linewidth=1)\n",
    "    plt.plot( 'tick_no', 'sma', data=df, marker='', color='red', linewidth=1)\n",
    "    plt.plot( 'tick_no', 'prev_sma', data=df, marker='', color='blue', linewidth=1)\n",
    "\n",
    "    # show legend\n",
    "    plt.legend()\n",
    "\n",
    "    # show graph\n",
    "    plt.show()"
   ]
  }
 ],
 "metadata": {
  "kernelspec": {
   "display_name": "Python 3 (ipykernel)",
   "language": "python",
   "name": "python3"
  },
  "language_info": {
   "codemirror_mode": {
    "name": "ipython",
    "version": 3
   },
   "file_extension": ".py",
   "mimetype": "text/x-python",
   "name": "python",
   "nbconvert_exporter": "python",
   "pygments_lexer": "ipython3",
   "version": "3.10.6"
  }
 },
 "nbformat": 4,
 "nbformat_minor": 5
}
