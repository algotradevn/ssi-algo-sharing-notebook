{
 "cells": [
  {
   "cell_type": "code",
   "execution_count": 4,
   "id": "61074542-abdd-4619-a1fa-0a8f8b8d10bb",
   "metadata": {},
   "outputs": [],
   "source": [
    "CURRENT_ORDER = dict({\n",
    "    'order_id': None,\n",
    "    'request_id': None,\n",
    "    'side': '',\n",
    "    'qty': 0,\n",
    "    'price': 0.0,\n",
    "    'status': None\n",
    "})\n",
    "INIT_POSITION = dict({\n",
    "    'side': None,\n",
    "    'avg_price': 0.0,\n",
    "    'qty': 0\n",
    "})\n",
    "OPEN_POSITION = INIT_POSITION\n",
    "LIST_ORDERS = []\n",
    "TOTAL_PROFIT = 0.0\n",
    "FLOOR_PRICE = None\n",
    "CEILING_PRICE = None\n",
    "\n",
    "def calculate_profit(last_px):\n",
    "    global OPEN_POSITION\n",
    "    if OPEN_POSITION['side'] is None:\n",
    "        return 0.0\n",
    "    side = -1 if OPEN_POSITION['side'] == 'SELL' else 1\n",
    "    return round((last_px - OPEN_POSITION['avg_price']) * side, 2)\n",
    "\n",
    "def reset():\n",
    "    global OPEN_POSITION, LIST_POSITIONS, OPENNED\n",
    "    OPEN_POSITION = INIT_POSITION\n",
    "    LIST_ORDERS = []\n",
    "    OPENNED = 0"
   ]
  }
 ],
 "metadata": {
  "kernelspec": {
   "display_name": "Python 3 (ipykernel)",
   "language": "python",
   "name": "python3"
  },
  "language_info": {
   "codemirror_mode": {
    "name": "ipython",
    "version": 3
   },
   "file_extension": ".py",
   "mimetype": "text/x-python",
   "name": "python",
   "nbconvert_exporter": "python",
   "pygments_lexer": "ipython3",
   "version": "3.10.6"
  }
 },
 "nbformat": 4,
 "nbformat_minor": 5
}
